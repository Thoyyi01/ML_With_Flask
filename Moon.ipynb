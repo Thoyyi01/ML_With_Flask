{
 "cells": [
  {
   "cell_type": "code",
   "execution_count": 1,
   "metadata": {},
   "outputs": [
    {
     "name": "stdout",
     "output_type": "stream",
     "text": [
      "    ID    Name  Phone\n",
      "0  179  Thoyyi    855\n",
      "1  180   Badri    584\n",
      "2  195       M    826\n"
     ]
    }
   ],
   "source": [
    "import pandas as pd \n",
    "name = [\"Thoyyi\",\"Badri\",\"M\"]\n",
    "id = [179,180,195]\n",
    "phone = [855,584,826,]\n",
    "dict1={\n",
    "    \"ID\":id,\n",
    "    \"Name\":name,\n",
    "    \"Phone\":phone,\n",
    "}\n",
    "M = pd.DataFrame(dict1)\n",
    "print(M)"
   ]
  }
 ],
 "metadata": {
  "kernelspec": {
   "display_name": "Python 3",
   "language": "python",
   "name": "python3"
  },
  "language_info": {
   "codemirror_mode": {
    "name": "ipython",
    "version": 3
   },
   "file_extension": ".py",
   "mimetype": "text/x-python",
   "name": "python",
   "nbconvert_exporter": "python",
   "pygments_lexer": "ipython3",
   "version": "3.12.1"
  }
 },
 "nbformat": 4,
 "nbformat_minor": 2
}
