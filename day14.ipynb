{
 "cells": [
  {
   "cell_type": "code",
   "execution_count": null,
   "metadata": {},
   "outputs": [],
   "source": [
    "import pandas as pd\n",
    "\n",
    "# Load the dataset\n",
    "df = pd.read_csv(\"drug_data.csv\") \n",
    "\n",
    "# Perform any necessary data cleaning.\n",
    "print(df.isnull().sum())\n",
    "df.dropna(inplace=True)\n",
    "df.drop_duplicates(inplace=True)\n",
    "\n",
    "# Create the following visualizations: A bar plot comparing the average Effectiveness for each drug across different regions.\n",
    "\n",
    "import matplotlib.pyplot as plt\n",
    "import seaborn as sns\n",
    "\n",
    "# Bar plot\n",
    "plt.figure(figsize=(10, 6))\n",
    "sns.barplot(data=df, x='Region', y='Effectiveness', hue='Product_Name')\n",
    "plt.title('Average Effectiveness by Region')\n",
    "plt.show()\n",
    "\n",
    "# A violin plot to show the distribution of Effectiveness and Side_Effects for each product.\n",
    "# Effectiveness\n",
    "sns.violinplot(data=df, x='Product_Name', y='Effectiveness')\n",
    "plt.title('Effectiveness by Product')\n",
    "plt.show()\n",
    "\n",
    "# Side Effects\n",
    "sns.violinplot(data=df, x='Product_Name', y='Side_Effects')\n",
    "plt.title('Side Effects by Product')\n",
    "plt.show()\n",
    "\n",
    "# A pairplot to explore relationships between Effectiveness, Side_Effects, and Marketing_Spend. \n",
    "sns.boxplot(data=df, x='Trial_Period', y='Effectiveness')\n",
    "plt.title('Effectiveness by Trial Period')\n",
    "plt.show()\n",
    "\n",
    "#A regression plot to analyze how Marketing_Spend affects drug Effectiveness.\n",
    "sns.regplot(data=df, x='Marketing_Spend', y='Effectiveness')\n",
    "plt.title('Marketing Spend vs. Effectiveness')\n",
    "plt.show()"
   ]
  },
  {
   "cell_type": "code",
   "execution_count": null,
   "metadata": {},
   "outputs": [],
   "source": []
  }
 ],
 "metadata": {
  "kernelspec": {
   "display_name": "Python 3",
   "language": "python",
   "name": "python3"
  },
  "language_info": {
   "codemirror_mode": {
    "name": "ipython",
    "version": 3
   },
   "file_extension": ".py",
   "mimetype": "text/x-python",
   "name": "python",
   "nbconvert_exporter": "python",
   "pygments_lexer": "ipython3",
   "version": "3.12.1"
  }
 },
 "nbformat": 4,
 "nbformat_minor": 2
}
