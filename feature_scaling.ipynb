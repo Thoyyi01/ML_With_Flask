{
 "cells": [
  {
   "cell_type": "code",
   "execution_count": null,
   "metadata": {},
   "outputs": [],
   "source": [
    "import pandas as pd\n",
    "from sklearn.preprocessing import OneHotEncoder\n",
    "data={\n",
    "    \"customer_id\":[1,2,3,4,5],\n",
    "    \"age\":[25,30,35,40,45],\n",
    "    \"gender\":[\"male\",\"female\",\"male\",\"female\",\"male\"],\n",
    "    \"city\":[\"AP\",\"Kerela\",\"HYD\",\"Munnar\",\"Coorg\"]\n",
    "}\n",
    "df=pd.DataFrame(data)\n",
    "print(\"Original data\")\n",
    "print(df)\n",
    "one_hot_encoder=OneHotEncoder(sparse_output=False)\n",
    "columns_to_encode=[\"city\",\"age\"]\n",
    "encoded_data = one_hot_encoder.fit_transform(df[columns_to_encode])\n",
    "encoded_columns = one_hot_encoder.get_feature_names_out(columns_to_encode)\n",
    "encoded_df = pd.DataFrame(encoded_data, columns=one_hot_encoder.get_feature_names_out(columns_to_encode))\n",
    "print(\"Encoded data\")\n",
    "print(encoded_df)"
   ]
  },
  {
   "cell_type": "code",
   "execution_count": null,
   "metadata": {},
   "outputs": [],
   "source": [
    "import pandas as pd\n",
    "from sklearn.preprocessing import LabelEncoder\n",
    "data={\n",
    "    \"customer_id\":[1,2,3,4,5],\n",
    "    \"age\":[25,30,35,40,45],\n",
    "    \"gender\":[\"male\",\"female\",\"male\",\"female\",\"male\"],\n",
    "}\n",
    "df=pd.DataFrame(data)\n",
    "print(\"Original data\")\n",
    "print(df)\n",
    "le=LabelEncoder()\n",
    "df[\"gender\"]=le.fit_transform(df[\"gender\"])\n",
    "print(df)\n"
   ]
  },
  {
   "cell_type": "code",
   "execution_count": null,
   "metadata": {},
   "outputs": [],
   "source": []
  }
 ],
 "metadata": {
  "language_info": {
   "name": "python"
  }
 },
 "nbformat": 4,
 "nbformat_minor": 2
}
